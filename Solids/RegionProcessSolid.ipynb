{
 "cells": [
  {
   "cell_type": "code",
   "execution_count": 12,
   "metadata": {
    "collapsed": false
   },
   "outputs": [],
   "source": [
    "import json\n",
    "import pandas as pd\n",
    "import numpy as np\n",
    "import math\n",
    "import matplotlib.pyplot as plt"
   ]
  },
  {
   "cell_type": "code",
   "execution_count": 13,
   "metadata": {
    "collapsed": false
   },
   "outputs": [],
   "source": [
    "def var(diagcompil,offdiagcompil,spin,region,value,error):\n",
    "    diagdict = {'spin':spin, 'region':region, 'avg':0,'error':0}\n",
    "\n",
    "    meanx = []\n",
    "    errx = [] \n",
    "    totxerr = []\n",
    "    totmeanx = []\n",
    "    meany = []\n",
    "    erry = []\n",
    "    totmeany = []\n",
    "    totyerr = []\n",
    "    covstore = []\n",
    "    coverrstore = []\n",
    "\n",
    "    #i is row; j is column\n",
    "    for (i,row) in enumerate(value):\n",
    "        for (j,val) in enumerate(row):\n",
    "            meanx.append(i*value[i][j])\n",
    "            errx.append((i*error[i][j])**2)\n",
    "        totmeanx.append(sum(meanx))\n",
    "        totxerr.append(sum(errx))\n",
    "        meanx=[]\n",
    "        errx=[]\n",
    "    for (i,row) in enumerate(value):\n",
    "        for (j,val) in enumerate(row):\n",
    "            meany.append(j*value[i][j])   \n",
    "            erry.append((j*error[i][j])**2)\n",
    "        totmeany.append(sum(meany))\n",
    "        totyerr.append(sum(erry))\n",
    "        meany=[]\n",
    "        erry=[]\n",
    "\n",
    "    totmeanx =sum(totmeanx)\n",
    "    totxerr = math.sqrt(sum(totxerr))\n",
    "    totmeany = sum(totmeany)\n",
    "    totyerr = math.sqrt(sum(totyerr))\n",
    "        \n",
    "    offdiagdict = {'spin':spin, 'region':region, 'covar':0,'error':0}\n",
    "    \n",
    "    for (i,row) in enumerate(value):\n",
    "        for (j,val) in enumerate(row):\n",
    "            covstore.append((i- totmeanx)*(j- totmeany)*(value[i][j]))\n",
    "#            covstore.append((i*j)*value[i][j]-totmeanx*totmeany*value[i][j])\n",
    "            if value[i][j] > 0.001:\n",
    "                coverrstore.append(i*j*error[i][j]+math.sqrt((totxerr/totmeanx)**2+(totyerr/totmeany)**2)+(error[i][j]/value[i][j])**2)\n",
    "    coverrstore = [i**2 for i in coverrstore]\n",
    "    totcoverr =math.sqrt(sum(coverrstore)) \n",
    "    offdiagdict['covar'] = sum(covstore)\n",
    "    offdiagdict['error'] = totcoverr\n",
    "#    if ((spin[0] != spin[1]) or (region[0] != region[1])):\n",
    "    return offdiagcompil.append(offdiagdict)"
   ]
  },
  {
   "cell_type": "code",
   "execution_count": 47,
   "metadata": {
    "collapsed": false,
    "scrolled": true
   },
   "outputs": [],
   "source": [
    "data = pd.read_json(\"region.json\")\n",
    "spin = data['total_spin'][2]\n",
    "hybrid = data['dft'][2]['functional']['hybrid']\n",
    "results = data['qmc'][2]['postprocess']['results']"
   ]
  },
  {
   "cell_type": "code",
   "execution_count": 59,
   "metadata": {
    "collapsed": false
   },
   "outputs": [],
   "source": [
    "fmresult = data['qmc'][3]['dmc']\n",
    "afmresult =data['qmc'][2]['dmc']"
   ]
  },
  {
   "cell_type": "code",
   "execution_count": 38,
   "metadata": {
    "collapsed": false
   },
   "outputs": [],
   "source": [
    "rfdata = data['qmc'][2]['postprocess']['results'][0]['results']['properties']['region_fluctuation']['fluctuation data']\n",
    "rfdata = pd.DataFrame.from_dict(rfdata)"
   ]
  },
  {
   "cell_type": "code",
   "execution_count": 39,
   "metadata": {
    "collapsed": false,
    "scrolled": true
   },
   "outputs": [],
   "source": [
    "#Obtain full data frame -- Mn,O sites and all spins\n",
    "diagcompil = []\n",
    "offdiagcompil =[]\n",
    "for i in range(len(rfdata)):\n",
    "        var(diagcompil,offdiagcompil,rfdata['spin'][i],rfdata['region'][i],rfdata['value'][i],rfdata['error'][i])\n",
    "offdiag = pd.DataFrame(offdiagcompil)\n",
    "diag = pd.DataFrame(diagcompil)\n",
    "\n",
    "#for i in range(len(offdiag)):\n",
    "#    if offdiag['covar'][i]> offdiag['error'][i]:\n",
    "#        print(offdiag['covar'][i],offdiag['error'][i],offdiag['region'][i],offdiag['spin'][i])"
   ]
  },
  {
   "cell_type": "code",
   "execution_count": 40,
   "metadata": {
    "collapsed": false,
    "scrolled": true
   },
   "outputs": [],
   "source": [
    "#Site-averaging\n",
    "#0-7 correspond to Mn; 8-15 correspond to Oxygen\n",
    "#Compile list for all equivalent exchanges and then average\n",
    "data = pd.read_json(\"distances.json\")\n",
    "data = pd.DataFrame.from_dict(data)\n",
    "data = pd.concat([data]*4, ignore_index=True)\n",
    "df = pd.concat([offdiag, data], axis=1)"
   ]
  },
  {
   "cell_type": "code",
   "execution_count": 74,
   "metadata": {
    "collapsed": false,
    "scrolled": false
   },
   "outputs": [
    {
     "data": {
      "text/plain": [
       "44"
      ]
     },
     "execution_count": 74,
     "metadata": {},
     "output_type": "execute_result"
    }
   ],
   "source": [
    "dfgroup=df.groupby(['distance'])\n",
    "nearrf = dfgroup.get_group(2.22)\n",
    "for i, row in nearrf.iterrows():\n",
    "    newspin = int(str(row['spin'][0])+str(row['spin'][1]))\n",
    "    if newspin == 10:\n",
    "        newspin = 1\n",
    "    nearrf.set_value(i,'spin',newspin)\n",
    "neargroup = nearrf.groupby(['spin'])\n",
    "nearrf = neargroup.get_group(00)\n",
    "nearrf= nearrf.reset_index()\n",
    "len(nearrf)"
   ]
  },
  {
   "cell_type": "code",
   "execution_count": 76,
   "metadata": {
    "collapsed": false
   },
   "outputs": [
    {
     "name": "stdout",
     "output_type": "stream",
     "text": [
      "-0.0727777737877 0.01632228347016401\n"
     ]
    }
   ],
   "source": [
    "covar = []\n",
    "err =[]\n",
    "for i in range(len(nearrf)): \n",
    "    covar.append(nearrf['covar'][i])\n",
    "    err.append(nearrf['error'][i])\n",
    "covaravg = sum(covar)#/44??\n",
    "err = [i**2 for i in err]\n",
    "totcoverr =math.sqrt(sum(err))#/44??\n",
    "print(covaravg, totcoverr)"
   ]
  },
  {
   "cell_type": "code",
   "execution_count": null,
   "metadata": {
    "collapsed": true
   },
   "outputs": [],
   "source": []
  }
 ],
 "metadata": {
  "kernelspec": {
   "display_name": "Python 3",
   "language": "python",
   "name": "python3"
  },
  "language_info": {
   "codemirror_mode": {
    "name": "ipython",
    "version": 3
   },
   "file_extension": ".py",
   "mimetype": "text/x-python",
   "name": "python",
   "nbconvert_exporter": "python",
   "pygments_lexer": "ipython3",
   "version": "3.5.2"
  }
 },
 "nbformat": 4,
 "nbformat_minor": 1
}
