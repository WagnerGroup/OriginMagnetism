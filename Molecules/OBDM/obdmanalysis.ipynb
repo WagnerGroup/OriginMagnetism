{
 "cells": [
  {
   "cell_type": "code",
   "execution_count": 2,
   "metadata": {
    "collapsed": true
   },
   "outputs": [],
   "source": [
    "import numpy as np\n",
    "import pandas as pd\n",
    "import matplotlib.pyplot as plt\n",
    "from pylab import *\n",
    "from scipy.optimize import curve_fit\n",
    "plt.rc('text', usetex=True)\n",
    "plt.rc('font', family='serif')"
   ]
  },
  {
   "cell_type": "code",
   "execution_count": 3,
   "metadata": {
    "collapsed": false
   },
   "outputs": [],
   "source": [
    "dataDict = {\n",
    "'State' : pd.Series(['FM','AFM','FM','AFM','FM','AFM','FM','AFM','FM','AFM','FM','AFM','FM','AFM'],index=['0','0', '15','15', '30','30','45','45','60','60','75','75','90', '90']),\n",
    "'Total Energy' : pd.Series([-223.9842666, -223.9853412, -223.9849268,-223.9855121,-223.983616,-223.9858769,-223.9811426,-223.9856887,-223.977814,-223.9809027,-223.9666981,-223.9699511,-223.9487315,-223.9504364], index=['0','0', '15','15', '30','30','45','45','60','60','75','75','90', '90']),\n",
    "'Energy Error' : pd.Series([0.000198749851,0.0002006422582,0.0002021910102,0.0001981985947,0.0002058370136,0.000197865291,0.0002035847029,0.0002077939487,0.0001998573641,0.0002029641835,0.0002013813606,0.0002082358912,0.0001978426595,0.0002056810956],index=['0','0', '15','15', '30','30','45','45','60','60','75','75','90', '90'])\n",
    "}"
   ]
  },
  {
   "cell_type": "code",
   "execution_count": 53,
   "metadata": {
    "collapsed": false
   },
   "outputs": [],
   "source": [
    "df = pd.read_json('allobdm.json')"
   ]
  },
  {
   "cell_type": "code",
   "execution_count": 51,
   "metadata": {
    "collapsed": false
   },
   "outputs": [],
   "source": [
    "def sigelements(matrix,siglist,storage):\n",
    "    temp =[]\n",
    "    for i in range(13):\n",
    "        for j in range(13):\n",
    "            if i == j:\n",
    "                break\n",
    "            if matrix[i][j] > 0.05 and matrix[i][j]<0.9:  \n",
    "                temp.append((i,j))\n",
    "    \n",
    "    storage['sig'] = temp\n",
    "    return storage"
   ]
  },
  {
   "cell_type": "code",
   "execution_count": 52,
   "metadata": {
    "collapsed": false
   },
   "outputs": [
    {
     "data": {
      "text/plain": [
       "[{'angle': 90, 'sig': [(7, 6), (9, 5), (10, 6)]},\n",
       " {'angle': 15, 'sig': [(9, 5), (10, 6), (11, 10)]},\n",
       " {'angle': 75, 'sig': [(9, 5), (10, 6)]},\n",
       " {'angle': 60, 'sig': [(9, 5), (10, 6)]},\n",
       " {'angle': 45, 'sig': [(9, 5), (10, 6)]},\n",
       " {'angle': 0, 'sig': [(9, 5), (10, 6)]},\n",
       " {'angle': 30, 'sig': [(9, 5), (10, 6)]}]"
      ]
     },
     "execution_count": 52,
     "metadata": {},
     "output_type": "execute_result"
    }
   ],
   "source": [
    "siglistupfm = []\n",
    "siglistupafm = []\n",
    "for i in range(14):\n",
    "    storage = {'angle':df['angle'][i], 'sig':[]}\n",
    "    if df['state'][i] == 'FM':\n",
    "        obdm = df['upmatrix'][i]\n",
    "        sigelements(obdm,siglistfm,storage)\n",
    "        siglistfm.append(storage)\n",
    "    else:\n",
    "        obdm = df['upmatrix'][i]\n",
    "        sigelements(obdm,siglistafm,storage)\n",
    "        siglistafm.append(storage)\n",
    "siglistafm"
   ]
  },
  {
   "cell_type": "code",
   "execution_count": null,
   "metadata": {
    "collapsed": true
   },
   "outputs": [],
   "source": [
    "siglistdownfm = []\n",
    "siglistdownafm = []\n",
    "for i in range(14):\n",
    "    storage = {'angle':df['angle'][i], 'sig':[]}\n",
    "    if df['state'][i] == 'FM':\n",
    "        obdm = df['downmatrix'][i]\n",
    "        sigelements(obdm,siglistfm,storage)\n",
    "        siglistfm.append(storage)\n",
    "    else:\n",
    "        obdm = df['downmatrix'][i]\n",
    "        sigelements(obdm,siglistafm,storage)\n",
    "        siglistafm.append(storage)\n",
    "siglistafm"
   ]
  },
  {
   "cell_type": "code",
   "execution_count": 31,
   "metadata": {
    "collapsed": false
   },
   "outputs": [
    {
     "name": "stdout",
     "output_type": "stream",
     "text": [
      "FM\n",
      "AFM\n",
      "FM\n",
      "AFM\n",
      "FM\n",
      "FM\n",
      "AFM\n",
      "FM\n",
      "AFM\n",
      "FM\n",
      "FM\n",
      "AFM\n",
      "AFM\n",
      "AFM\n"
     ]
    }
   ],
   "source": [
    "#Initialize lists of dictionaries since json file is out of order\n",
    "fmup = [] \n",
    "fmuperr = []\n",
    "fmdown =[]\n",
    "fmdownerr = []\n",
    "afmup = []\n",
    "afmuperr = []\n",
    "afmdown = []\n",
    "afmdownerr = []\n",
    "for state in df['state']:\n",
    "    "
   ]
  },
  {
   "cell_type": "code",
   "execution_count": null,
   "metadata": {
    "collapsed": true
   },
   "outputs": [],
   "source": []
  }
 ],
 "metadata": {
  "kernelspec": {
   "display_name": "Python 3",
   "language": "python",
   "name": "python3"
  },
  "language_info": {
   "codemirror_mode": {
    "name": "ipython",
    "version": 3
   },
   "file_extension": ".py",
   "mimetype": "text/x-python",
   "name": "python",
   "nbconvert_exporter": "python",
   "pygments_lexer": "ipython3",
   "version": "3.5.2"
  }
 },
 "nbformat": 4,
 "nbformat_minor": 1
}
