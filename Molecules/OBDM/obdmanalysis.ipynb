{
 "cells": [
  {
   "cell_type": "code",
   "execution_count": 15,
   "metadata": {
    "collapsed": true
   },
   "outputs": [],
   "source": [
    "import numpy as np\n",
    "import pandas as pd\n",
    "import matplotlib.pyplot as plt\n",
    "import itertools\n",
    "from operator import itemgetter\n",
    "from pylab import *\n",
    "from scipy.optimize import curve_fit\n",
    "plt.rc('text', usetex=True)\n",
    "plt.rc('font', family='serif')"
   ]
  },
  {
   "cell_type": "code",
   "execution_count": 68,
   "metadata": {
    "collapsed": false
   },
   "outputs": [
    {
     "data": {
      "text/html": [
       "<div>\n",
       "<table border=\"1\" class=\"dataframe\">\n",
       "  <thead>\n",
       "    <tr style=\"text-align: right;\">\n",
       "      <th></th>\n",
       "      <th>Energy Error</th>\n",
       "      <th>State</th>\n",
       "      <th>Total Energy</th>\n",
       "    </tr>\n",
       "  </thead>\n",
       "  <tbody>\n",
       "    <tr>\n",
       "      <th>0</th>\n",
       "      <td>0.000199</td>\n",
       "      <td>FM</td>\n",
       "      <td>-223.984267</td>\n",
       "    </tr>\n",
       "    <tr>\n",
       "      <th>0</th>\n",
       "      <td>0.000201</td>\n",
       "      <td>AFM</td>\n",
       "      <td>-223.985341</td>\n",
       "    </tr>\n",
       "    <tr>\n",
       "      <th>15</th>\n",
       "      <td>0.000202</td>\n",
       "      <td>FM</td>\n",
       "      <td>-223.984927</td>\n",
       "    </tr>\n",
       "    <tr>\n",
       "      <th>15</th>\n",
       "      <td>0.000198</td>\n",
       "      <td>AFM</td>\n",
       "      <td>-223.985512</td>\n",
       "    </tr>\n",
       "    <tr>\n",
       "      <th>30</th>\n",
       "      <td>0.000206</td>\n",
       "      <td>FM</td>\n",
       "      <td>-223.983616</td>\n",
       "    </tr>\n",
       "    <tr>\n",
       "      <th>30</th>\n",
       "      <td>0.000198</td>\n",
       "      <td>AFM</td>\n",
       "      <td>-223.985877</td>\n",
       "    </tr>\n",
       "    <tr>\n",
       "      <th>45</th>\n",
       "      <td>0.000204</td>\n",
       "      <td>FM</td>\n",
       "      <td>-223.981143</td>\n",
       "    </tr>\n",
       "    <tr>\n",
       "      <th>45</th>\n",
       "      <td>0.000208</td>\n",
       "      <td>AFM</td>\n",
       "      <td>-223.985689</td>\n",
       "    </tr>\n",
       "    <tr>\n",
       "      <th>60</th>\n",
       "      <td>0.000200</td>\n",
       "      <td>FM</td>\n",
       "      <td>-223.977814</td>\n",
       "    </tr>\n",
       "    <tr>\n",
       "      <th>60</th>\n",
       "      <td>0.000203</td>\n",
       "      <td>AFM</td>\n",
       "      <td>-223.980903</td>\n",
       "    </tr>\n",
       "    <tr>\n",
       "      <th>75</th>\n",
       "      <td>0.000201</td>\n",
       "      <td>FM</td>\n",
       "      <td>-223.966698</td>\n",
       "    </tr>\n",
       "    <tr>\n",
       "      <th>75</th>\n",
       "      <td>0.000208</td>\n",
       "      <td>AFM</td>\n",
       "      <td>-223.969951</td>\n",
       "    </tr>\n",
       "    <tr>\n",
       "      <th>90</th>\n",
       "      <td>0.000198</td>\n",
       "      <td>FM</td>\n",
       "      <td>-223.948732</td>\n",
       "    </tr>\n",
       "    <tr>\n",
       "      <th>90</th>\n",
       "      <td>0.000206</td>\n",
       "      <td>AFM</td>\n",
       "      <td>-223.950436</td>\n",
       "    </tr>\n",
       "  </tbody>\n",
       "</table>\n",
       "</div>"
      ],
      "text/plain": [
       "    Energy Error State  Total Energy\n",
       "0       0.000199    FM   -223.984267\n",
       "0       0.000201   AFM   -223.985341\n",
       "15      0.000202    FM   -223.984927\n",
       "15      0.000198   AFM   -223.985512\n",
       "30      0.000206    FM   -223.983616\n",
       "30      0.000198   AFM   -223.985877\n",
       "45      0.000204    FM   -223.981143\n",
       "45      0.000208   AFM   -223.985689\n",
       "60      0.000200    FM   -223.977814\n",
       "60      0.000203   AFM   -223.980903\n",
       "75      0.000201    FM   -223.966698\n",
       "75      0.000208   AFM   -223.969951\n",
       "90      0.000198    FM   -223.948732\n",
       "90      0.000206   AFM   -223.950436"
      ]
     },
     "execution_count": 68,
     "metadata": {},
     "output_type": "execute_result"
    }
   ],
   "source": [
    "dataDict = {\n",
    "'State' : pd.Series(['FM','AFM','FM','AFM','FM','AFM','FM','AFM','FM','AFM','FM','AFM','FM','AFM'],index=['0','0', '15','15', '30','30','45','45','60','60','75','75','90', '90']),\n",
    "'Total Energy' : pd.Series([-223.9842666, -223.9853412, -223.9849268,-223.9855121,-223.983616,-223.9858769,-223.9811426,-223.9856887,-223.977814,-223.9809027,-223.9666981,-223.9699511,-223.9487315,-223.9504364], index=['0','0', '15','15', '30','30','45','45','60','60','75','75','90', '90']),\n",
    "'Energy Error' : pd.Series([0.000198749851,0.0002006422582,0.0002021910102,0.0001981985947,0.0002058370136,0.000197865291,0.0002035847029,0.0002077939487,0.0001998573641,0.0002029641835,0.0002013813606,0.0002082358912,0.0001978426595,0.0002056810956],index=['0','0', '15','15', '30','30','45','45','60','60','75','75','90', '90'])\n",
    "}\n",
    "keyData = pd.DataFrame(dataDict)\n",
    "keyData"
   ]
  },
  {
   "cell_type": "code",
   "execution_count": 76,
   "metadata": {
    "collapsed": false
   },
   "outputs": [],
   "source": [
    "angle =[0,15,30,45,60,75,90]\n",
    "afm = []\n",
    "fm = []\n",
    "errfm=[]\n",
    "errafm=[]\n",
    "for index, row in keyData.iterrows():\n",
    "    if row[1] == 'FM':\n",
    "        fm.append(row[2])\n",
    "        errfm.append(row[0])\n",
    "    else:\n",
    "        afm.append(row[2])\n",
    "        errafm.append(row[0])\n",
    "afm = np.asarray(afm)\n",
    "fm = np.asarray(fm)\n",
    "errfm=np.asarray(errfm)\n",
    "errafm=np.asarray(errafm)\n",
    "diff= afm-fm\n",
    "errdiff = ((errafm)**2+(errfm)**2)**(1/2)"
   ]
  },
  {
   "cell_type": "code",
   "execution_count": 3,
   "metadata": {
    "collapsed": false
   },
   "outputs": [
    {
     "name": "stderr",
     "output_type": "stream",
     "text": [
      "/Library/Frameworks/Python.framework/Versions/3.5/lib/python3.5/site-packages/ipykernel/__main__.py:2: FutureWarning: sort(columns=....) is deprecated, use sort_values(by=.....)\n",
      "  from ipykernel import kernelapp as app\n"
     ]
    }
   ],
   "source": [
    "df = pd.read_json('allobdm.json')\n",
    "df=df.sort('angle')\n",
    "df.index = range(0,len(df))"
   ]
  },
  {
   "cell_type": "code",
   "execution_count": 4,
   "metadata": {
    "collapsed": false
   },
   "outputs": [],
   "source": [
    "def sigelements(matrix,siglist,storage):\n",
    "    temp =[]\n",
    "    for i in range(13):\n",
    "        for j in range(13):\n",
    "            if i == j:\n",
    "                break\n",
    "            if matrix[i][j] > 0.05 and matrix[i][j]<0.9:  \n",
    "                temp.append((i,j)) \n",
    "    storage['sig'] = temp\n",
    "    siglist.append(storage)\n",
    "    return siglist"
   ]
  },
  {
   "cell_type": "code",
   "execution_count": 5,
   "metadata": {
    "collapsed": false
   },
   "outputs": [
    {
     "data": {
      "text/plain": [
       "[{'angle': 0, 'sig': [(9, 5), (10, 6)]},\n",
       " {'angle': 15, 'sig': [(9, 5), (10, 6), (11, 10)]},\n",
       " {'angle': 30, 'sig': [(9, 5), (10, 6)]},\n",
       " {'angle': 45, 'sig': [(9, 5), (10, 6)]},\n",
       " {'angle': 60, 'sig': [(9, 5), (10, 6)]},\n",
       " {'angle': 75, 'sig': [(9, 5), (10, 6)]},\n",
       " {'angle': 90, 'sig': [(7, 6), (9, 5), (10, 6)]}]"
      ]
     },
     "execution_count": 5,
     "metadata": {},
     "output_type": "execute_result"
    }
   ],
   "source": [
    "sigupfm = []\n",
    "sigupafm = []\n",
    "for i in range(14):\n",
    "    storage = {'angle':df['angle'][i], 'sig':[]}\n",
    "    if df['state'][i] == 'FM':\n",
    "        obdm = df['upmatrix'][i]\n",
    "        sigelements(obdm,sigupfm,storage)\n",
    "    else:\n",
    "        obdm = df['upmatrix'][i]\n",
    "        sigelements(obdm,sigupafm,storage)\n",
    "\n",
    "sigupafm"
   ]
  },
  {
   "cell_type": "code",
   "execution_count": 6,
   "metadata": {
    "collapsed": false
   },
   "outputs": [
    {
     "data": {
      "text/plain": [
       "[{'angle': 0, 'sig': [(7, 0)]},\n",
       " {'angle': 15, 'sig': [(6, 0), (6, 3), (7, 0), (7, 2)]},\n",
       " {'angle': 30, 'sig': [(6, 0), (7, 2)]},\n",
       " {'angle': 45, 'sig': [(6, 0), (6, 2), (7, 2)]},\n",
       " {'angle': 60, 'sig': [(6, 0), (6, 2), (7, 6)]},\n",
       " {'angle': 75, 'sig': [(6, 2), (7, 6)]},\n",
       " {'angle': 90, 'sig': [(7, 6)]}]"
      ]
     },
     "execution_count": 6,
     "metadata": {},
     "output_type": "execute_result"
    }
   ],
   "source": [
    "sigdownfm = []\n",
    "sigdownafm = []\n",
    "for i in range(14):\n",
    "    storage = {'angle':df['angle'][i], 'sig':[]}\n",
    "    if df['state'][i] == 'FM':\n",
    "        obdm = df['downmatrix'][i]\n",
    "        sigelements(obdm,sigdownfm,storage)\n",
    "    else:\n",
    "        obdm = df['downmatrix'][i]\n",
    "        sigelements(obdm,sigdownafm,storage)\n",
    "sigdownafm"
   ]
  },
  {
   "cell_type": "code",
   "execution_count": 7,
   "metadata": {
    "collapsed": true
   },
   "outputs": [],
   "source": [
    "def obdmelements(angle,matrix,errmatrix,coordinates,out):\n",
    "    storage = {'angle':angle, 'value':0,'err':0,'coord':coordinates}\n",
    "    storage['value'] = matrix[coordinates[0]][coordinates[1]]\n",
    "    storage['err'] = errmatrix[coordinates[0]][coordinates[1]]\n",
    "    return out.append(storage)"
   ]
  },
  {
   "cell_type": "code",
   "execution_count": 8,
   "metadata": {
    "collapsed": false
   },
   "outputs": [],
   "source": [
    "fmupcoord = [(7,6),(10,6)]\n",
    "fmup = [] \n",
    "for i in range(14):\n",
    "    if df['state'][i] =='FM':\n",
    "        for coord in fmupcoord:\n",
    "            obdmelements(df['angle'][i],df['upmatrix'][i],df['uperr'][i],coord,fmup)\n",
    "\n",
    "            \n",
    "fmdowncoord = [(6,0),(9,5),(7,2),(10,6)]\n",
    "fmdown =[]\n",
    "for i in range(14):\n",
    "    if df['state'][i] =='FM':\n",
    "        for coord in fmdowncoord:\n",
    "            obdmelements(df['angle'][i],df['downmatrix'][i],df['downerr'][i],coord,fmdown)\n",
    "\n",
    "            \n",
    "afmupcoord = [(9,5),(10,6)]\n",
    "afmup = []\n",
    "for i in range(14):\n",
    "    if df['state'][i] =='AFM':\n",
    "        for coord in afmupcoord:\n",
    "            obdmelements(df['angle'][i],df['upmatrix'][i],df['uperr'][i],coord,afmup)\n",
    "\n",
    "afmdowncoord = [(6,0),(6,2),(7,2),(7,6)]\n",
    "afmdown = []\n",
    "for i in range(14):\n",
    "    if df['state'][i] =='AFM':\n",
    "        for coord in afmdowncoord:\n",
    "            obdmelements(df['angle'][i],df['downmatrix'][i],df['downerr'][i],coord,afmdown)"
   ]
  },
  {
   "cell_type": "code",
   "execution_count": 50,
   "metadata": {
    "collapsed": false
   },
   "outputs": [],
   "source": [
    "afmdown.sort(key=itemgetter('coord'))\n",
    "ordered =[]\n",
    "for key,items in itertools.groupby(afmdown,itemgetter('coord')):\n",
    "    ordered.append(list(items)) \n",
    "ad60 = ordered[0]\n",
    "ad62 = ordered[1]\n",
    "ad72 = ordered[2]\n",
    "ad76 = ordered[3]\n",
    "\n",
    "afmup.sort(key=itemgetter('coord'))\n",
    "ordered =[]\n",
    "for key,items in itertools.groupby(afmup,itemgetter('coord')):\n",
    "    ordered.append(list(items)) \n",
    "au95 = ordered[0]\n",
    "au106 = ordered[1]\n",
    "\n",
    "fmup.sort(key=itemgetter('coord'))\n",
    "ordered =[]\n",
    "for key,items in itertools.groupby(fmup,itemgetter('coord')):\n",
    "    ordered.append(list(items)) \n",
    "fu76 = ordered[0]\n",
    "fu106 = ordered[1]\n",
    "\n",
    "fmdown.sort(key=itemgetter('coord'))\n",
    "ordered =[]\n",
    "for key,items in itertools.groupby(fmdown,itemgetter('coord')):\n",
    "    ordered.append(list(items)) \n",
    "fd60 = ordered[0]\n",
    "fd72 = ordered[1]\n",
    "fd95 = ordered[2]\n",
    "fd106 = ordered[3]"
   ]
  },
  {
   "cell_type": "code",
   "execution_count": 93,
   "metadata": {
    "collapsed": false
   },
   "outputs": [
    {
     "data": {
      "image/png": "[encoded data removed]",
      "text/plain": [
       "<matplotlib.figure.Figure at 0x109d59438>"
      ]
     },
     "metadata": {},
     "output_type": "display_data"
    }
   ],
   "source": [
    "obdmelem = []\n",
    "obdmerr = []\n",
    "for i in range(7):\n",
    "    obdmelem.append(fu76[i]['value'])\n",
    "    obdmerr.append(fu76[i]['err'])\n",
    "obdmelem = np.asarray(obdmelem)\n",
    "obdmerr = np.asarray(obdmerr)\n",
    "inds = obdmelem.argsort()\n",
    "sortedErr =obdmerr[inds]\n",
    "sortedobdm = np.sort(obdmelem)\n",
    "sortedDiff = diff[inds]\n",
    "sortedDiffErr = errdiff[inds]\n",
    "\n",
    "plt.errorbar(sortedobdm,sortedDiff,xerr=sortedErr,yerr=sortedDiffErr,marker='o',color='r',mew=1,linestyle='None')\n",
    "plt.ylabel('Energy Difference (Hartrees)')\n",
    "plt.xlabel('OBDM Element 6-0')\n",
    "plt.title('FM -- Down Spins')\n",
    "plt.show()"
   ]
  },
  {
   "cell_type": "code",
   "execution_count": null,
   "metadata": {
    "collapsed": true
   },
   "outputs": [],
   "source": []
  }
 ],
 "metadata": {
  "kernelspec": {
   "display_name": "Python 3",
   "language": "python",
   "name": "python3"
  },
  "language_info": {
   "codemirror_mode": {
    "name": "ipython",
    "version": 3
   },
   "file_extension": ".py",
   "mimetype": "text/x-python",
   "name": "python",
   "nbconvert_exporter": "python",
   "pygments_lexer": "ipython3",
   "version": "3.5.2"
  }
 },
 "nbformat": 4,
 "nbformat_minor": 1
}
