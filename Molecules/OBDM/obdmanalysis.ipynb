{
 "cells": [
  {
   "cell_type": "code",
   "execution_count": 1,
   "metadata": {
    "collapsed": true
   },
   "outputs": [],
   "source": [
    "import numpy as np\n",
    "import pandas as pd\n",
    "import matplotlib.pyplot as plt\n",
    "import itertools\n",
    "from operator import itemgetter\n",
    "from pylab import *\n",
    "from scipy.optimize import curve_fit\n",
    "plt.rc('text', usetex=True)\n",
    "plt.rc('font', family='serif')"
   ]
  },
  {
   "cell_type": "code",
   "execution_count": 2,
   "metadata": {
    "collapsed": false
   },
   "outputs": [],
   "source": [
    "# Energy as function of angle\n",
    "dataDict = {\n",
    "'State' : pd.Series(['FM','AFM','FM','AFM','FM','AFM','FM','AFM','FM','AFM','FM','AFM','FM','AFM'],index=['0','0', '15','15', '30','30','45','45','60','60','75','75','90', '90']),\n",
    "'Total Energy' : pd.Series([-223.9842666, -223.9853412, -223.9849268,-223.9855121,-223.983616,-223.9858769,-223.9811426,-223.9856887,-223.977814,-223.9809027,-223.9666981,-223.9699511,-223.9487315,-223.9504364], index=['0','0', '15','15', '30','30','45','45','60','60','75','75','90', '90']),\n",
    "'Energy Error' : pd.Series([0.000198749851,0.0002006422582,0.0002021910102,0.0001981985947,0.0002058370136,0.000197865291,0.0002035847029,0.0002077939487,0.0001998573641,0.0002029641835,0.0002013813606,0.0002082358912,0.0001978426595,0.0002056810956],index=['0','0', '15','15', '30','30','45','45','60','60','75','75','90', '90'])\n",
    "}\n",
    "keyData = pd.DataFrame(dataDict)"
   ]
  },
  {
   "cell_type": "code",
   "execution_count": 3,
   "metadata": {
    "collapsed": false
   },
   "outputs": [],
   "source": [
    "#Calculating energy differenes\n",
    "angle =[0,15,30,45,60,75,90]\n",
    "afm = []\n",
    "fm = []\n",
    "errfm=[]\n",
    "errafm=[]\n",
    "for index, row in keyData.iterrows():\n",
    "    if row[1] == 'FM':\n",
    "        fm.append(row[2])\n",
    "        errfm.append(row[0])\n",
    "    else:\n",
    "        afm.append(row[2])\n",
    "        errafm.append(row[0])\n",
    "afm = np.asarray(afm)\n",
    "fm = np.asarray(fm)\n",
    "errfm=np.asarray(errfm)\n",
    "errafm=np.asarray(errafm)\n",
    "diff= afm-fm\n",
    "errdiff = ((errafm)**2+(errfm)**2)**(1/2)"
   ]
  },
  {
   "cell_type": "code",
   "execution_count": 19,
   "metadata": {
    "collapsed": false
   },
   "outputs": [
    {
     "name": "stderr",
     "output_type": "stream",
     "text": [
      "/Library/Frameworks/Python.framework/Versions/3.5/lib/python3.5/site-packages/ipykernel/__main__.py:3: FutureWarning: sort(columns=....) is deprecated, use sort_values(by=.....)\n",
      "  app.launch_new_instance()\n"
     ]
    },
    {
     "data": {
      "text/html": [
       "<div>\n",
       "<table border=\"1\" class=\"dataframe\">\n",
       "  <thead>\n",
       "    <tr style=\"text-align: right;\">\n",
       "      <th></th>\n",
       "      <th>angle</th>\n",
       "      <th>downerr</th>\n",
       "      <th>downmatrix</th>\n",
       "      <th>state</th>\n",
       "      <th>uperr</th>\n",
       "      <th>upmatrix</th>\n",
       "    </tr>\n",
       "  </thead>\n",
       "  <tbody>\n",
       "    <tr>\n",
       "      <th>0</th>\n",
       "      <td>0</td>\n",
       "      <td>[[0.01660481124, 0.01645567583, 0.01692936186,...</td>\n",
       "      <td>[[0.08872400307, -0.01873891707, -0.0033873031...</td>\n",
       "      <td>FM</td>\n",
       "      <td>[[0.03326404997, 0.008092531259999999, 0.00774...</td>\n",
       "      <td>[[0.9803081928, 0.0029962565249999997, -0.0068...</td>\n",
       "    </tr>\n",
       "    <tr>\n",
       "      <th>1</th>\n",
       "      <td>0</td>\n",
       "      <td>[[0.01578053015, 0.017787179939999998, 0.01606...</td>\n",
       "      <td>[[0.0699468021, 0.01205847272, 0.0106055519000...</td>\n",
       "      <td>AFM</td>\n",
       "      <td>[[0.03163984685, 0.007970737108, 0.00738465636...</td>\n",
       "      <td>[[0.9900878325, -0.0060637413579999995, -0.000...</td>\n",
       "    </tr>\n",
       "    <tr>\n",
       "      <th>2</th>\n",
       "      <td>15</td>\n",
       "      <td>[[0.01845295867, 0.015020198609999999, 0.01697...</td>\n",
       "      <td>[[0.07400718433999999, -0.003029810651, -0.008...</td>\n",
       "      <td>AFM</td>\n",
       "      <td>[[0.03214535781, 0.008510354264, 0.0067192764,...</td>\n",
       "      <td>[[0.9857886176, 0.001194987757, 0.00941171972,...</td>\n",
       "    </tr>\n",
       "    <tr>\n",
       "      <th>3</th>\n",
       "      <td>15</td>\n",
       "      <td>[[0.01620019172, 0.016229759349999998, 0.01609...</td>\n",
       "      <td>[[0.0372662239, 0.02069895674, -0.0315485874, ...</td>\n",
       "      <td>FM</td>\n",
       "      <td>[[0.02945215482, 0.007375934927, 0.00859258270...</td>\n",
       "      <td>[[0.9837267749, 0.004388485197, -0.00067892670...</td>\n",
       "    </tr>\n",
       "    <tr>\n",
       "      <th>4</th>\n",
       "      <td>30</td>\n",
       "      <td>[[0.0163234929, 0.01525273854, 0.01928035428, ...</td>\n",
       "      <td>[[0.03769092455, 0.012604258129999999, 0.02060...</td>\n",
       "      <td>FM</td>\n",
       "      <td>[[0.02874092292, 0.006986393325, 0.00867478052...</td>\n",
       "      <td>[[0.9843167767000001, -0.004072991838, 0.00566...</td>\n",
       "    </tr>\n",
       "    <tr>\n",
       "      <th>5</th>\n",
       "      <td>30</td>\n",
       "      <td>[[0.018286417939999997, 0.01781188306, 0.01626...</td>\n",
       "      <td>[[0.06597745206, -0.022352627469999997, 0.0427...</td>\n",
       "      <td>AFM</td>\n",
       "      <td>[[0.03286648889, 0.007224579746, 0.00834297968...</td>\n",
       "      <td>[[0.9782063455000001, 0.009185732087, 0.003256...</td>\n",
       "    </tr>\n",
       "    <tr>\n",
       "      <th>6</th>\n",
       "      <td>45</td>\n",
       "      <td>[[0.01549163025, 0.0151220572, 0.01618905399, ...</td>\n",
       "      <td>[[0.01551029897, -0.0023356531779999998, 0.016...</td>\n",
       "      <td>FM</td>\n",
       "      <td>[[0.02769825711, 0.007262866184, 0.00956705006...</td>\n",
       "      <td>[[0.9833630986, 0.00200683135, -0.008906288376...</td>\n",
       "    </tr>\n",
       "    <tr>\n",
       "      <th>7</th>\n",
       "      <td>45</td>\n",
       "      <td>[[0.016223838600000002, 0.01675950912, 0.01563...</td>\n",
       "      <td>[[0.037621380739999995, -0.01613862393, 0.0007...</td>\n",
       "      <td>AFM</td>\n",
       "      <td>[[0.031056457939999997, 0.008082938583, 0.0090...</td>\n",
       "      <td>[[0.984744672, 0.001876350439, -0.003654608485...</td>\n",
       "    </tr>\n",
       "    <tr>\n",
       "      <th>8</th>\n",
       "      <td>60</td>\n",
       "      <td>[[0.01486845958, 0.01791343685, 0.01643127124,...</td>\n",
       "      <td>[[0.02898564356, 0.01794627348, 0.014270492749...</td>\n",
       "      <td>AFM</td>\n",
       "      <td>[[0.03319608632, 0.00884062846, 0.007735443991...</td>\n",
       "      <td>[[0.9885053258000001, -0.01687113428, 0.002270...</td>\n",
       "    </tr>\n",
       "    <tr>\n",
       "      <th>9</th>\n",
       "      <td>60</td>\n",
       "      <td>[[0.016935555419999998, 0.01771655564, 0.01676...</td>\n",
       "      <td>[[0.03978539059, 0.022794333809999998, 0.02949...</td>\n",
       "      <td>FM</td>\n",
       "      <td>[[0.03110488978, 0.007121325647, 0.01110313898...</td>\n",
       "      <td>[[0.9860858162, 0.0016956484399999999, -0.0080...</td>\n",
       "    </tr>\n",
       "    <tr>\n",
       "      <th>10</th>\n",
       "      <td>75</td>\n",
       "      <td>[[0.01574644535, 0.01683928072, 0.014878282159...</td>\n",
       "      <td>[[0.025473791489999998, 0.028811023279999997, ...</td>\n",
       "      <td>AFM</td>\n",
       "      <td>[[0.031688706489999996, 0.0073896839289999995,...</td>\n",
       "      <td>[[0.9858234485, 0.000345911804, -0.00242073127...</td>\n",
       "    </tr>\n",
       "    <tr>\n",
       "      <th>11</th>\n",
       "      <td>75</td>\n",
       "      <td>[[0.01598601168, 0.015344127979999999, 0.01677...</td>\n",
       "      <td>[[0.0012100669239999999, -0.004958090149999999...</td>\n",
       "      <td>FM</td>\n",
       "      <td>[[0.02963025922, 0.008069291646, 0.00744981843...</td>\n",
       "      <td>[[0.9818694594, 0.0047910418279999995, 0.01073...</td>\n",
       "    </tr>\n",
       "    <tr>\n",
       "      <th>12</th>\n",
       "      <td>90</td>\n",
       "      <td>[[0.016815450569999998, 0.017663667719999998, ...</td>\n",
       "      <td>[[0.032695791259999996, -0.001032085308, 0.005...</td>\n",
       "      <td>AFM</td>\n",
       "      <td>[[0.027609474819999997, 0.008411331694, 0.0079...</td>\n",
       "      <td>[[0.9871805011, 0.007802707517, -0.00050389619...</td>\n",
       "    </tr>\n",
       "    <tr>\n",
       "      <th>13</th>\n",
       "      <td>90</td>\n",
       "      <td>[[0.01654192288, 0.018475879839999997, 0.01478...</td>\n",
       "      <td>[[0.002281874907, 7.12236618e-05, 0.0005123414...</td>\n",
       "      <td>FM</td>\n",
       "      <td>[[0.027946596100000002, 0.008742164667, 0.0080...</td>\n",
       "      <td>[[0.9847154214, -0.001189019686, -1.6674520180...</td>\n",
       "    </tr>\n",
       "  </tbody>\n",
       "</table>\n",
       "</div>"
      ],
      "text/plain": [
       "    angle                                            downerr  \\\n",
       "0       0  [[0.01660481124, 0.01645567583, 0.01692936186,...   \n",
       "1       0  [[0.01578053015, 0.017787179939999998, 0.01606...   \n",
       "2      15  [[0.01845295867, 0.015020198609999999, 0.01697...   \n",
       "3      15  [[0.01620019172, 0.016229759349999998, 0.01609...   \n",
       "4      30  [[0.0163234929, 0.01525273854, 0.01928035428, ...   \n",
       "5      30  [[0.018286417939999997, 0.01781188306, 0.01626...   \n",
       "6      45  [[0.01549163025, 0.0151220572, 0.01618905399, ...   \n",
       "7      45  [[0.016223838600000002, 0.01675950912, 0.01563...   \n",
       "8      60  [[0.01486845958, 0.01791343685, 0.01643127124,...   \n",
       "9      60  [[0.016935555419999998, 0.01771655564, 0.01676...   \n",
       "10     75  [[0.01574644535, 0.01683928072, 0.014878282159...   \n",
       "11     75  [[0.01598601168, 0.015344127979999999, 0.01677...   \n",
       "12     90  [[0.016815450569999998, 0.017663667719999998, ...   \n",
       "13     90  [[0.01654192288, 0.018475879839999997, 0.01478...   \n",
       "\n",
       "                                           downmatrix state  \\\n",
       "0   [[0.08872400307, -0.01873891707, -0.0033873031...    FM   \n",
       "1   [[0.0699468021, 0.01205847272, 0.0106055519000...   AFM   \n",
       "2   [[0.07400718433999999, -0.003029810651, -0.008...   AFM   \n",
       "3   [[0.0372662239, 0.02069895674, -0.0315485874, ...    FM   \n",
       "4   [[0.03769092455, 0.012604258129999999, 0.02060...    FM   \n",
       "5   [[0.06597745206, -0.022352627469999997, 0.0427...   AFM   \n",
       "6   [[0.01551029897, -0.0023356531779999998, 0.016...    FM   \n",
       "7   [[0.037621380739999995, -0.01613862393, 0.0007...   AFM   \n",
       "8   [[0.02898564356, 0.01794627348, 0.014270492749...   AFM   \n",
       "9   [[0.03978539059, 0.022794333809999998, 0.02949...    FM   \n",
       "10  [[0.025473791489999998, 0.028811023279999997, ...   AFM   \n",
       "11  [[0.0012100669239999999, -0.004958090149999999...    FM   \n",
       "12  [[0.032695791259999996, -0.001032085308, 0.005...   AFM   \n",
       "13  [[0.002281874907, 7.12236618e-05, 0.0005123414...    FM   \n",
       "\n",
       "                                                uperr  \\\n",
       "0   [[0.03326404997, 0.008092531259999999, 0.00774...   \n",
       "1   [[0.03163984685, 0.007970737108, 0.00738465636...   \n",
       "2   [[0.03214535781, 0.008510354264, 0.0067192764,...   \n",
       "3   [[0.02945215482, 0.007375934927, 0.00859258270...   \n",
       "4   [[0.02874092292, 0.006986393325, 0.00867478052...   \n",
       "5   [[0.03286648889, 0.007224579746, 0.00834297968...   \n",
       "6   [[0.02769825711, 0.007262866184, 0.00956705006...   \n",
       "7   [[0.031056457939999997, 0.008082938583, 0.0090...   \n",
       "8   [[0.03319608632, 0.00884062846, 0.007735443991...   \n",
       "9   [[0.03110488978, 0.007121325647, 0.01110313898...   \n",
       "10  [[0.031688706489999996, 0.0073896839289999995,...   \n",
       "11  [[0.02963025922, 0.008069291646, 0.00744981843...   \n",
       "12  [[0.027609474819999997, 0.008411331694, 0.0079...   \n",
       "13  [[0.027946596100000002, 0.008742164667, 0.0080...   \n",
       "\n",
       "                                             upmatrix  \n",
       "0   [[0.9803081928, 0.0029962565249999997, -0.0068...  \n",
       "1   [[0.9900878325, -0.0060637413579999995, -0.000...  \n",
       "2   [[0.9857886176, 0.001194987757, 0.00941171972,...  \n",
       "3   [[0.9837267749, 0.004388485197, -0.00067892670...  \n",
       "4   [[0.9843167767000001, -0.004072991838, 0.00566...  \n",
       "5   [[0.9782063455000001, 0.009185732087, 0.003256...  \n",
       "6   [[0.9833630986, 0.00200683135, -0.008906288376...  \n",
       "7   [[0.984744672, 0.001876350439, -0.003654608485...  \n",
       "8   [[0.9885053258000001, -0.01687113428, 0.002270...  \n",
       "9   [[0.9860858162, 0.0016956484399999999, -0.0080...  \n",
       "10  [[0.9858234485, 0.000345911804, -0.00242073127...  \n",
       "11  [[0.9818694594, 0.0047910418279999995, 0.01073...  \n",
       "12  [[0.9871805011, 0.007802707517, -0.00050389619...  \n",
       "13  [[0.9847154214, -0.001189019686, -1.6674520180...  "
      ]
     },
     "execution_count": 19,
     "metadata": {},
     "output_type": "execute_result"
    }
   ],
   "source": [
    "#Raw Data upload\n",
    "df = pd.read_json('allobdm.json')\n",
    "df=df.sort('angle')\n",
    "df.index = range(0,len(df))\n",
    "df"
   ]
  },
  {
   "cell_type": "code",
   "execution_count": 5,
   "metadata": {
    "collapsed": true
   },
   "outputs": [],
   "source": [
    "#Fit function\n",
    "def func(x, a, b):\n",
    "    return a*np.exp(-b*(x))#+c"
   ]
  },
  {
   "cell_type": "code",
   "execution_count": 6,
   "metadata": {
    "collapsed": false
   },
   "outputs": [],
   "source": [
    "#Filter for which matrix elements are of most interest\n",
    "def sigelements(matrix,siglist,storage):\n",
    "    temp =[]\n",
    "    for i in range(13):\n",
    "        for j in range(13):\n",
    "            if i == j:\n",
    "                break\n",
    "            elif abs(matrix[i][j]) > 0.05:  \n",
    "                temp.append((i,j)) \n",
    "    storage['sig'] = temp\n",
    "    siglist.append(storage)\n",
    "    return siglist"
   ]
  },
  {
   "cell_type": "code",
   "execution_count": 7,
   "metadata": {
    "collapsed": false
   },
   "outputs": [
    {
     "data": {
      "text/plain": [
       "[{'angle': 0, 'sig': [(8, 7), (9, 5), (10, 6)]},\n",
       " {'angle': 15, 'sig': [(8, 7), (9, 5), (10, 6), (11, 10)]},\n",
       " {'angle': 30, 'sig': [(7, 6), (8, 7), (9, 5), (10, 6)]},\n",
       " {'angle': 45, 'sig': [(7, 6), (8, 7), (9, 5), (10, 6)]},\n",
       " {'angle': 60, 'sig': [(8, 7), (9, 5), (10, 6)]},\n",
       " {'angle': 75, 'sig': [(8, 7), (9, 5), (10, 6)]},\n",
       " {'angle': 90, 'sig': [(6, 3), (7, 6), (8, 7), (9, 5), (10, 6)]}]"
      ]
     },
     "execution_count": 7,
     "metadata": {},
     "output_type": "execute_result"
    }
   ],
   "source": [
    "#Construct lists of interesting coordinates for up and down spins\n",
    "sigupfm = []\n",
    "sigupafm = []\n",
    "for i in range(14):\n",
    "    storage = {'angle':df['angle'][i], 'sig':[]}\n",
    "    if df['state'][i] == 'FM':\n",
    "        obdm = df['upmatrix'][i]\n",
    "        sigelements(obdm,sigupfm,storage)\n",
    "    else:\n",
    "        obdm = df['upmatrix'][i]\n",
    "        sigelements(obdm,sigupafm,storage)\n",
    "\n",
    "sigdownfm = []\n",
    "sigdownafm = []\n",
    "for i in range(14):\n",
    "    storage = {'angle':df['angle'][i], 'sig':[]}\n",
    "    if df['state'][i] == 'FM':\n",
    "        obdm = df['downmatrix'][i]\n",
    "        sigelements(obdm,sigdownfm,storage)\n",
    "    else:\n",
    "        obdm = df['downmatrix'][i]\n",
    "        sigelements(obdm,sigdownafm,storage)\n",
    "sigupafm"
   ]
  },
  {
   "cell_type": "code",
   "execution_count": 8,
   "metadata": {
    "collapsed": true
   },
   "outputs": [],
   "source": [
    "#Pull OBDM elements based on interesting coordinates\n",
    "def obdmelements(angle,matrix,errmatrix,coordinates,out):\n",
    "    storage = {'angle':angle, 'value':0,'err':0,'coord':coordinates}\n",
    "    storage['value'] = matrix[coordinates[0]][coordinates[1]]\n",
    "    storage['err'] = errmatrix[coordinates[0]][coordinates[1]]\n",
    "    return out.append(storage)"
   ]
  },
  {
   "cell_type": "code",
   "execution_count": 9,
   "metadata": {
    "collapsed": false
   },
   "outputs": [],
   "source": [
    "#For each magnetic state and spin, compile the matrix elements associated with each coordinate\n",
    "fmupcoord = [(7,6)]\n",
    "fmup = [] \n",
    "for i in range(14):\n",
    "    if df['state'][i] =='FM':\n",
    "        for coord in fmupcoord:\n",
    "            obdmelements(df['angle'][i],df['upmatrix'][i],df['uperr'][i],coord,fmup)\n",
    "\n",
    "            \n",
    "fmdowncoord = [(6,2),(7,0)]\n",
    "fmdown =[]\n",
    "for i in range(14):\n",
    "    if df['state'][i] =='FM':\n",
    "        for coord in fmdowncoord:\n",
    "            obdmelements(df['angle'][i],df['downmatrix'][i],df['downerr'][i],coord,fmdown)\n",
    "\n",
    "            \n",
    "afmupcoord = [(10,6)]\n",
    "afmup = []\n",
    "for i in range(14):\n",
    "    if df['state'][i] =='AFM':\n",
    "        for coord in afmupcoord:\n",
    "            obdmelements(df['angle'][i],df['upmatrix'][i],df['uperr'][i],coord,afmup)\n",
    "\n",
    "afmdowncoord = [(6,2),(7,0)]\n",
    "afmdown = []\n",
    "for i in range(14):\n",
    "    if df['state'][i] =='AFM':\n",
    "        for coord in afmdowncoord:\n",
    "            obdmelements(df['angle'][i],df['downmatrix'][i],df['downerr'][i],coord,afmdown)"
   ]
  },
  {
   "cell_type": "code",
   "execution_count": 10,
   "metadata": {
    "collapsed": false
   },
   "outputs": [],
   "source": [
    "#Group particular matrix elements together from the grand list\n",
    "afmdown.sort(key=itemgetter('coord'))\n",
    "ad =[]\n",
    "for key,items in itertools.groupby(afmdown,itemgetter('coord')):\n",
    "    ad.append(list(items)) \n",
    "\n",
    "afmup.sort(key=itemgetter('coord'))\n",
    "au =[]\n",
    "for key,items in itertools.groupby(afmup,itemgetter('coord')):\n",
    "    au.append(list(items)) \n",
    "\n",
    "fmup.sort(key=itemgetter('coord'))\n",
    "fu =[]\n",
    "for key,items in itertools.groupby(fmup,itemgetter('coord')):\n",
    "    fu.append(list(items)) \n",
    "\n",
    "fmdown.sort(key=itemgetter('coord'))\n",
    "fd =[]\n",
    "for key,items in itertools.groupby(fmdown,itemgetter('coord')):\n",
    "    fd.append(list(items)) "
   ]
  },
  {
   "cell_type": "code",
   "execution_count": 107,
   "metadata": {
    "collapsed": false,
    "scrolled": true
   },
   "outputs": [
    {
     "data": {
      "image/png": "[encoded data removed]",
      "text/plain": [
       "<matplotlib.figure.Figure at 0x108f592b0>"
      ]
     },
     "metadata": {},
     "output_type": "display_data"
    }
   ],
   "source": [
    "check = ad[0]\n",
    "check2  = ad[1]\n",
    "\n",
    "obdmelem = []\n",
    "obdmerr = []\n",
    "obdmelem2 = []\n",
    "obdmerr2 = []\n",
    "for i in range(7):\n",
    "    obdmelem.append(check[i]['value'])\n",
    "    obdmerr.append(check[i]['err'])\n",
    "    obdmelem2.append(check2[i]['value'])\n",
    "    obdmerr2.append(check2[i]['err'])\n",
    "obdmelem = [sum(x) for x in zip(obdmelem, obdmelem2)]\n",
    "obdmerr = [i**2 for i in obdmerr]\n",
    "obdmerr2 = [i**2 for i in obdmerr2]\n",
    "obdmerr = [math.sqrt(sum(x)) for x in zip(obdmerr, obdmerr2)]\n",
    "obdmelem = np.asarray(obdmelem)\n",
    "obdmerr = np.asarray(obdmerr)\n",
    "\n",
    "\n",
    "inds = obdmelem.argsort()\n",
    "sortedErr =obdmerr[inds]\n",
    "sortedobdm = np.sort(obdmelem)\n",
    "sortedDiff = diff[inds]\n",
    "sortedDiffErr = errdiff[inds]\n",
    "\n",
    "popt, pcov = curve_fit(func, sortedobdm, sortedDiff, [52,0.0015])\n",
    "x=np.arange(-0.15, 0.15, .001)\n",
    "y= popt[0]*exp(-popt[1]*x)#+popt[2]\n",
    "error = np.random.normal(0.0009, 0.00002, size=y.shape)\n",
    "plt.fill_between(x, y-error, y+error,    alpha=0.2, edgecolor='#1B2ACC', facecolor='#089FFF',\n",
    "    linewidth=4, antialiased=True)\n",
    "plt.plot(x, y)\n",
    "plt.text(-0.1, -0.005,r'$\\Delta E = -\\alpha e^{-\\beta O}$', horizontalalignment='center',\n",
    "     verticalalignment='center')\n",
    "\n",
    "plt.errorbar(sortedobdm,sortedDiff,xerr=sortedErr,yerr=sortedDiffErr,marker='o',color='r',mew=1,linestyle='None')\n",
    "plt.ylabel('E(AFM)-E(FM) (Hartrees)')\n",
    "plt.xlabel('Major Contributions to AFM Minority',size=12)\n",
    "plt.title('Mn-O OBDM')\n",
    "#plt.xlim(-0.32, 0.23)\n",
    "plt.show()"
   ]
  },
  {
   "cell_type": "code",
   "execution_count": 108,
   "metadata": {
    "collapsed": false
   },
   "outputs": [],
   "source": [
    "#Analysis of all hoppings between Manganese and Oxygen -- no filtering to be done\n",
    "#(567)x(01234)\n",
    "def sumelements(matrix,error,sumlist,storage):\n",
    "    temp =[]\n",
    "    errtemp = []\n",
    "    for i in range(5,8):\n",
    "        for j in range(0,5):\n",
    "#            if abs(matrix[i][j]) > 0.05:\n",
    "                temp.append(matrix[i][j])\n",
    "                errtemp.append(error[i][j])\n",
    "    for i in range(5,8):\n",
    "        for j in range(0,5):\n",
    "#            if abs(matrix[j][i]) > 0.05:\n",
    "                temp.append(matrix[j][i])\n",
    "                errtemp.append(error[j][i])     \n",
    "    for i in range(5,8):\n",
    "        for j in range(8,13):\n",
    "#            if abs(matrix[j][i]) > 0.05:\n",
    "                temp.append(matrix[j][i])\n",
    "                errtemp.append(error[j][i]) \n",
    "    for i in range(5,8):\n",
    "        for j in range(8,13):\n",
    "#            if abs(matrix[i][j]) > 0.05:\n",
    "                temp.append(matrix[i][j])\n",
    "                errtemp.append(error[i][j])\n",
    "                \n",
    "    errtemp = [i**2 for i in errtemp]\n",
    "    toterr =math.sqrt(sum(errtemp)) \n",
    "    storage['sum'] = sum(temp)\n",
    "    storage['error'] = toterr\n",
    "    sumlist.append(storage)\n",
    "    return sumlist"
   ]
  },
  {
   "cell_type": "code",
   "execution_count": 109,
   "metadata": {
    "collapsed": false
   },
   "outputs": [
    {
     "data": {
      "text/plain": [
       "[{'angle': 0, 'error': 0.13991565763254213, 'sum': 0.031699439450399998},\n",
       " {'angle': 15, 'error': 0.1268495201281653, 'sum': 0.59490405744110009},\n",
       " {'angle': 30, 'error': 0.12682995523879265, 'sum': 0.28072142400250999},\n",
       " {'angle': 45, 'error': 0.11077882640761574, 'sum': 0.23770726493950003},\n",
       " {'angle': 60, 'error': 0.12419724512650485, 'sum': -0.64567127019510007},\n",
       " {'angle': 75, 'error': 0.12299082838413931, 'sum': -0.77878348830165001},\n",
       " {'angle': 90, 'error': 0.1382111580996009, 'sum': -0.7513705124835699}]"
      ]
     },
     "execution_count": 109,
     "metadata": {},
     "output_type": "execute_result"
    }
   ],
   "source": [
    "sumupfm = []\n",
    "sumupafm = []\n",
    "for i in range(14):\n",
    "    storage = {'angle':df['angle'][i], 'sum':[],'error':[]}\n",
    "    if df['state'][i] == 'FM':\n",
    "        obdm = df['upmatrix'][i]\n",
    "        err= df['uperr'][i]\n",
    "        sumelements(obdm,err,sumupfm,storage)\n",
    "    else:\n",
    "        obdm = df['upmatrix'][i]\n",
    "        err= df['uperr'][i]\n",
    "        sumelements(obdm,err,sumupafm,storage)\n",
    "\n",
    "sumdownfm = []\n",
    "sumdownafm = []\n",
    "for i in range(14):\n",
    "    storage = {'angle':df['angle'][i], 'sum':[]}\n",
    "    if df['state'][i] == 'FM':\n",
    "        obdm = df['downmatrix'][i]\n",
    "        err= df['downerr'][i]\n",
    "        sumelements(obdm,err,sumdownfm,storage)\n",
    "    else:\n",
    "        obdm = df['downmatrix'][i]\n",
    "        err= df['downerr'][i]\n",
    "        sumelements(obdm,err,sumdownafm,storage)\n",
    "sumdownfm"
   ]
  },
  {
   "cell_type": "code",
   "execution_count": 110,
   "metadata": {
    "collapsed": false
   },
   "outputs": [
    {
     "data": {
      "image/png": "[encoded data removed]",
      "text/plain": [
       "<matplotlib.figure.Figure at 0x109d405f8>"
      ]
     },
     "metadata": {},
     "output_type": "display_data"
    }
   ],
   "source": [
    "obdmelem = []\n",
    "obdmerr = []\n",
    "for i in range(len(sumdownfm)):\n",
    "    obdmelem.append(sumdownfm[i]['sum'])\n",
    "    obdmerr.append(sumdownfm[i]['error'])\n",
    "obdmelem = np.asarray(obdmelem)/4\n",
    "obdmerr = np.asarray(obdmerr)/4\n",
    "inds = obdmelem.argsort()\n",
    "sortedErr =obdmerr[inds]\n",
    "sortedobdm = np.sort(obdmelem)\n",
    "sortedDiff = diff[inds]\n",
    "sortedDiffErr = errdiff[inds]\n",
    "\n",
    "plt.errorbar(sortedobdm,sortedDiff,xerr=sortedErr,yerr=sortedDiffErr,marker='o',color='r',mew=1,linestyle='None')\n",
    "plt.ylabel('E(AFM)-E(FM) (Hartrees)')\n",
    "plt.xlabel('Total AFM Minority',size=12)\n",
    "plt.title('Mn-O OBDM')\n",
    "#plt.xlim(-0.32, 0.23)\n",
    "plt.show()"
   ]
  },
  {
   "cell_type": "code",
   "execution_count": null,
   "metadata": {
    "collapsed": true
   },
   "outputs": [],
   "source": []
  }
 ],
 "metadata": {
  "kernelspec": {
   "display_name": "Python 3",
   "language": "python",
   "name": "python3"
  },
  "language_info": {
   "codemirror_mode": {
    "name": "ipython",
    "version": 3
   },
   "file_extension": ".py",
   "mimetype": "text/x-python",
   "name": "python",
   "nbconvert_exporter": "python",
   "pygments_lexer": "ipython3",
   "version": "3.5.2"
  }
 },
 "nbformat": 4,
 "nbformat_minor": 1
}
